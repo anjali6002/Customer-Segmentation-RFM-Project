{
 "cells": [
  {
   "cell_type": "markdown",
   "id": "5ec6367f-309b-4a07-aa2a-410973041a0a",
   "metadata": {},
   "source": [
    "# Project Prism: Customer Segmentation & Strategic Marketing Dashboard\n",
    "\n",
    "This project is a deep dive into pure analytics and business intelligence. My objective is to perform customer segmentation and provide strategic insights for targeted marketing. The project leverages an e-commerce dataset to identify distinct customer groups based on their purchasing behavior. The final output is an actionable analysis that can be translated into business value."
   ]
  },
  {
   "cell_type": "code",
   "execution_count": 1,
   "id": "1772d29a-08ba-4371-8f17-988c6cdaf66f",
   "metadata": {},
   "outputs": [
    {
     "name": "stdout",
     "output_type": "stream",
     "text": [
      "First 5 rows of the dataset:\n",
      "  InvoiceNo StockCode                          Description  Quantity  \\\n",
      "0    536365    85123A   WHITE HANGING HEART T-LIGHT HOLDER         6   \n",
      "1    536365     71053                  WHITE METAL LANTERN         6   \n",
      "2    536365    84406B       CREAM CUPID HEARTS COAT HANGER         8   \n",
      "3    536365    84029G  KNITTED UNION FLAG HOT WATER BOTTLE         6   \n",
      "4    536365    84029E       RED WOOLLY HOTTIE WHITE HEART.         6   \n",
      "\n",
      "      InvoiceDate  UnitPrice  CustomerID         Country  \n",
      "0  12/1/2010 8:26       2.55     17850.0  United Kingdom  \n",
      "1  12/1/2010 8:26       3.39     17850.0  United Kingdom  \n",
      "2  12/1/2010 8:26       2.75     17850.0  United Kingdom  \n",
      "3  12/1/2010 8:26       3.39     17850.0  United Kingdom  \n",
      "4  12/1/2010 8:26       3.39     17850.0  United Kingdom  \n"
     ]
    }
   ],
   "source": [
    "import pandas as pd\n",
    "\n",
    "# Load the dataset from the specified CSV file\n",
    "df = pd.read_csv('dataset.csv', encoding='ISO-8859-1')\n",
    "\n",
    "# Display the first few rows to confirm it loaded correctly\n",
    "print(\"First 5 rows of the dataset:\")\n",
    "print(df.head())"
   ]
  },
  {
   "cell_type": "markdown",
   "id": "14b0e2ea-391d-48f8-90f2-f767b0053e13",
   "metadata": {},
   "source": [
    "### Phase 1: Data Inspection and Cleaning \n",
    "\n",
    "Now that the data is loaded, my next step is to inspect its structure and quality. I'll check for missing values, data types, and any inconsistencies like negative values. This is a crucial step to ensure the integrity of my analysis.\n",
    "\n",
    "Based on the initial inspection, I'll perform the following cleaning steps:\n",
    "- I'll remove any rows with a missing `CustomerID` because it's impossible to segment a customer without an ID.\n",
    "- I'll convert the `InvoiceDate` column to a proper datetime format to enable time-based analysis.\n",
    "- I'll create a new `TotalPrice` column by multiplying `Quantity` and `UnitPrice`, as this will be the basis for my Monetary value calculation.\n",
    "- I'll remove any transactions with negative quantities or prices, as they likely represent returns or data entry errors that don't fit our segmentation model."
   ]
  },
  {
   "cell_type": "code",
   "execution_count": 2,
   "id": "56062575-1f09-420d-84df-51639cbad8fb",
   "metadata": {},
   "outputs": [
    {
     "name": "stdout",
     "output_type": "stream",
     "text": [
      "<class 'pandas.core.frame.DataFrame'>\n",
      "RangeIndex: 541909 entries, 0 to 541908\n",
      "Data columns (total 8 columns):\n",
      " #   Column       Non-Null Count   Dtype  \n",
      "---  ------       --------------   -----  \n",
      " 0   InvoiceNo    541909 non-null  object \n",
      " 1   StockCode    541909 non-null  object \n",
      " 2   Description  540455 non-null  object \n",
      " 3   Quantity     541909 non-null  int64  \n",
      " 4   InvoiceDate  541909 non-null  object \n",
      " 5   UnitPrice    541909 non-null  float64\n",
      " 6   CustomerID   406829 non-null  float64\n",
      " 7   Country      541909 non-null  object \n",
      "dtypes: float64(2), int64(1), object(5)\n",
      "memory usage: 33.1+ MB\n",
      "None\n",
      "Number of rows: 541909\n",
      "Number of columns: 8\n",
      "\n",
      "Missing values per column:\n",
      "InvoiceNo           0\n",
      "StockCode           0\n",
      "Description      1454\n",
      "Quantity            0\n",
      "InvoiceDate         0\n",
      "UnitPrice           0\n",
      "CustomerID     135080\n",
      "Country             0\n",
      "dtype: int64\n"
     ]
    }
   ],
   "source": [
    "# Get a concise summary of the DataFrame\n",
    "print(df.info())\n",
    "\n",
    "# Get the number of rows and columns\n",
    "print(f\"Number of rows: {df.shape[0]}\")\n",
    "print(f\"Number of columns: {df.shape[1]}\")\n",
    "\n",
    "# Check for missing values in each column\n",
    "print(\"\\nMissing values per column:\")\n",
    "print(df.isnull().sum())"
   ]
  },
  {
   "cell_type": "code",
   "execution_count": 3,
   "id": "aea629ca-5554-418f-a21a-29d0e2e65056",
   "metadata": {},
   "outputs": [
    {
     "name": "stdout",
     "output_type": "stream",
     "text": [
      "Cleaned DataFrame Info:\n",
      "<class 'pandas.core.frame.DataFrame'>\n",
      "Index: 397884 entries, 0 to 541908\n",
      "Data columns (total 9 columns):\n",
      " #   Column       Non-Null Count   Dtype         \n",
      "---  ------       --------------   -----         \n",
      " 0   InvoiceNo    397884 non-null  object        \n",
      " 1   StockCode    397884 non-null  object        \n",
      " 2   Description  397884 non-null  object        \n",
      " 3   Quantity     397884 non-null  int64         \n",
      " 4   InvoiceDate  397884 non-null  datetime64[ns]\n",
      " 5   UnitPrice    397884 non-null  float64       \n",
      " 6   CustomerID   397884 non-null  object        \n",
      " 7   Country      397884 non-null  object        \n",
      " 8   TotalPrice   397884 non-null  float64       \n",
      "dtypes: datetime64[ns](1), float64(2), int64(1), object(5)\n",
      "memory usage: 30.4+ MB\n",
      "None\n",
      "\n",
      "Number of rows after cleaning: 397884\n"
     ]
    }
   ],
   "source": [
    "# Create a copy to preserve the original DataFrame if needed\n",
    "df_cleaned = df.copy()\n",
    "\n",
    "# 1. Drop rows with missing CustomerID\n",
    "df_cleaned.dropna(subset=['CustomerID'], inplace=True)\n",
    "\n",
    "# 2. Convert CustomerID to string\n",
    "df_cleaned['CustomerID'] = df_cleaned['CustomerID'].astype(str)\n",
    "\n",
    "# 3. Convert InvoiceDate to datetime objects\n",
    "df_cleaned['InvoiceDate'] = pd.to_datetime(df_cleaned['InvoiceDate'])\n",
    "\n",
    "# 4. Remove transactions with negative or zero values in Quantity or UnitPrice\n",
    "df_cleaned = df_cleaned[df_cleaned['Quantity'] > 0]\n",
    "df_cleaned = df_cleaned[df_cleaned['UnitPrice'] > 0]\n",
    "\n",
    "# 5. Create the TotalPrice column\n",
    "df_cleaned['TotalPrice'] = df_cleaned['Quantity'] * df_cleaned['UnitPrice']\n",
    "\n",
    "# Let's inspect the cleaned DataFrame\n",
    "print(\"Cleaned DataFrame Info:\")\n",
    "print(df_cleaned.info())\n",
    "\n",
    "print(\"\\nNumber of rows after cleaning:\", df_cleaned.shape[0])"
   ]
  },
  {
   "cell_type": "markdown",
   "id": "435f413c-3e5b-425b-a4c3-63e8b554a1b3",
   "metadata": {},
   "source": [
    "### Phase 2: RFM Analysis & Feature Engineering \n",
    "\n",
    "Now that my data is clean and prepared, it's time to build the foundation for my customer segmentation. I'll use the **RFM (Recency, Frequency, Monetary)** model, a well-established marketing analysis technique.\n",
    "\n",
    "-   **Recency**: How recently a customer made a purchase. A lower number of days means they are more engaged.\n",
    "-   **Frequency**: How often a customer makes a purchase. A higher number indicates a more loyal customer.\n",
    "-   **Monetary**: How much a customer has spent in total. A higher value signifies a high-value customer.\n",
    "\n",
    "The following code will calculate these three crucial metrics for each unique customer in my dataset."
   ]
  },
  {
   "cell_type": "code",
   "execution_count": 4,
   "id": "b61d2d1c-b2c3-4135-8331-e6e5bebb2d71",
   "metadata": {},
   "outputs": [
    {
     "name": "stdout",
     "output_type": "stream",
     "text": [
      "RFM Table (First 5 rows):\n",
      "  CustomerID  Recency  Frequency  Monetary\n",
      "0    12346.0      326          1  77183.60\n",
      "1    12347.0        2          7   4310.00\n",
      "2    12348.0       75          4   1797.24\n",
      "3    12349.0       19          1   1757.55\n",
      "4    12350.0      310          1    334.40\n",
      "\n",
      "RFM Table Summary:\n",
      "           Recency    Frequency       Monetary\n",
      "count  4338.000000  4338.000000    4338.000000\n",
      "mean     92.536422     4.272015    2054.266460\n",
      "std     100.014169     7.697998    8989.230441\n",
      "min       1.000000     1.000000       3.750000\n",
      "25%      18.000000     1.000000     307.415000\n",
      "50%      51.000000     2.000000     674.485000\n",
      "75%     142.000000     5.000000    1661.740000\n",
      "max     374.000000   209.000000  280206.020000\n"
     ]
    }
   ],
   "source": [
    "# Create a reference date that is one day after the last purchase date in the dataset\n",
    "import datetime as dt\n",
    "\n",
    "# Find the most recent date in the data\n",
    "last_date = df_cleaned['InvoiceDate'].max()\n",
    "\n",
    "# Set our reference date as the day after the last transaction\n",
    "reference_date = last_date + dt.timedelta(days=1)\n",
    "\n",
    "# Calculate RFM metrics\n",
    "# We will use 'InvoiceNo' as part of the aggregation to calculate Frequency\n",
    "rfm_df = df_cleaned.groupby('CustomerID').agg({\n",
    "    'InvoiceDate': lambda date: (reference_date - date.max()).days,\n",
    "    'InvoiceNo': pd.Series.nunique, # Correctly counts unique invoices for Frequency\n",
    "    'TotalPrice': lambda price: price.sum()\n",
    "})\n",
    "\n",
    "# Rename the columns for clarity\n",
    "rfm_df.columns = ['Recency', 'Frequency', 'Monetary']\n",
    "\n",
    "# Reset index to make CustomerID a column\n",
    "rfm_df = rfm_df.reset_index()\n",
    "\n",
    "# Display the first few rows of the RFM table\n",
    "print(\"RFM Table (First 5 rows):\")\n",
    "print(rfm_df.head())\n",
    "\n",
    "# Display a summary of the RFM table\n",
    "print(\"\\nRFM Table Summary:\")\n",
    "print(rfm_df.describe())\n",
    "\n",
    "# Save the updated DataFrame, which now includes 'InvoiceNo' as the Frequency column\n",
    "rfm_df.to_csv('rfm_data.csv', index=False)"
   ]
  },
  {
   "cell_type": "markdown",
   "id": "a3c0adc1-61c4-499f-9cfe-04e0ac76944c",
   "metadata": {},
   "source": [
    "### Phase 3: Customer Segmentation \n",
    "\n",
    "Now that I have my RFM metrics, I'll use an unsupervised machine learning algorithm to group my customers. The algorithm I've chosen is **K-Means clustering**, which is excellent for finding natural groupings in data.\n",
    "\n",
    "However, before I can apply K-Means, I need to preprocess my data. As my RFM summary showed, the data is highly skewed. To fix this, I'll perform two key steps:\n",
    "1.  **Log Transformation**: This will normalize the skewed distributions of my RFM values, making them more suitable for the clustering algorithm.\n",
    "2.  **Data Scaling**: I'll scale the data so that each feature (Recency, Frequency, Monetary) has a similar range, preventing any single feature from dominating the clustering process.\n",
    "\n",
    "After preprocessing, I'll use the **Elbow Method** to determine the optimal number of clusters to use for my final model."
   ]
  },
  {
   "cell_type": "code",
   "execution_count": 5,
   "id": "0aef0e77-8a4b-449e-8ff6-237da1f7004e",
   "metadata": {},
   "outputs": [
    {
     "name": "stdout",
     "output_type": "stream",
     "text": [
      "First 5 rows of the scaled RFM data:\n",
      "    Recency  Frequency  Monetary\n",
      "0  1.409894  -1.048610  3.698719\n",
      "1 -2.146498   1.111836  1.410201\n",
      "2  0.383971   0.490522  0.716419\n",
      "3 -0.574674  -1.048610  0.698706\n",
      "4  1.374758  -1.048610 -0.617446\n"
     ]
    }
   ],
   "source": [
    "import numpy as np\n",
    "from sklearn.preprocessing import StandardScaler\n",
    "\n",
    "# Handle the skew by applying a log transformation\n",
    "rfm_log = rfm_df[['Recency', 'Frequency', 'Monetary']].copy()\n",
    "for col in ['Recency', 'Frequency', 'Monetary']:\n",
    "    rfm_log[col] = np.log(rfm_log[col])\n",
    "\n",
    "# Scale the data using StandardScaler\n",
    "scaler = StandardScaler()\n",
    "rfm_scaled = scaler.fit_transform(rfm_log)\n",
    "\n",
    "# Convert the scaled data back to a DataFrame for easier handling\n",
    "rfm_scaled_df = pd.DataFrame(data=rfm_scaled, index=rfm_df.index, columns=['Recency', 'Frequency', 'Monetary'])\n",
    "\n",
    "print(\"First 5 rows of the scaled RFM data:\")\n",
    "print(rfm_scaled_df.head())"
   ]
  },
  {
   "cell_type": "markdown",
   "id": "610011cb-78f4-4a79-a446-0442d994bf96",
   "metadata": {},
   "source": [
    "### Using the Elbow Method to Find the Optimal Number of Clusters\n",
    "\n",
    "I need to decide on the number of clusters (`k`) to use for my final K-Means model. To do this, I'll use the **Elbow Method**. This method works by running K-Means for a range of `k` values and plotting the sum of squared distances (SSD).\n",
    "\n",
    "I'll look for the \"elbow\" point on the plot, which is where the decrease in SSD begins to flatten out. This point represents a good trade-off between having too few clusters and too many."
   ]
  },
  {
   "cell_type": "code",
   "execution_count": 6,
   "id": "aac28e65-73c7-4244-95f0-dd101bcf481b",
   "metadata": {},
   "outputs": [
    {
     "data": {
      "image/png": "[encoded data removed]",
      "text/plain": [
       "<Figure size 1000x600 with 1 Axes>"
      ]
     },
     "metadata": {},
     "output_type": "display_data"
    }
   ],
   "source": [
    "import matplotlib.pyplot as plt\n",
    "from sklearn.cluster import KMeans\n",
    "\n",
    "# Determine the optimal number of clusters using the Elbow Method\n",
    "ssd = []\n",
    "range_n_clusters = range(1, 11)\n",
    "\n",
    "for num_clusters in range_n_clusters:\n",
    "    # Initialize KMeans with the current number of clusters\n",
    "    kmeans = KMeans(n_clusters=num_clusters, random_state=42, n_init=10)\n",
    "    # Fit the model to our scaled data\n",
    "    kmeans.fit(rfm_scaled_df)\n",
    "    # Append the inertia (SSD) to our list\n",
    "    ssd.append(kmeans.inertia_)\n",
    "\n",
    "# Plot the Elbow curve\n",
    "plt.figure(figsize=(10, 6))\n",
    "plt.plot(range_n_clusters, ssd, marker='o', linestyle='--')\n",
    "plt.xlabel('Number of Clusters (k)')\n",
    "plt.ylabel('Sum of Squared Distances (SSD)')\n",
    "plt.title('Elbow Method for Optimal k')\n",
    "plt.xticks(range_n_clusters)\n",
    "plt.grid(True)\n",
    "\n",
    "# Save the figure to a file\n",
    "plt.savefig('elbow_method_plot.png')\n",
    "\n",
    "plt.show()"
   ]
  },
  {
   "cell_type": "markdown",
   "id": "7c21d9b0-1860-4aa1-b4e5-276b9b3ecc8a",
   "metadata": {},
   "source": [
    "### Applying the Final K-Means Model\n",
    "\n",
    "Based on the Elbow Method plot, I have chosen 4 as the optimal number of clusters. Now, I will apply the K-Means algorithm one last time with this number of clusters to assign a unique segment ID to each customer. I will then add these segment IDs back to my original RFM DataFrame."
   ]
  },
  {
   "cell_type": "code",
   "execution_count": 7,
   "id": "e2722e0c-7480-4d75-b9c2-6e81b13d45dd",
   "metadata": {},
   "outputs": [
    {
     "name": "stdout",
     "output_type": "stream",
     "text": [
      "RFM Table with Cluster IDs:\n",
      "  CustomerID  Recency  Frequency  Monetary  Cluster_ID\n",
      "0    12346.0      326          1  77183.60           2\n",
      "1    12347.0        2          7   4310.00           1\n",
      "2    12348.0       75          4   1797.24           2\n",
      "3    12349.0       19          1   1757.55           0\n",
      "4    12350.0      310          1    334.40           3\n",
      "\n",
      "Cluster Sizes:\n",
      "Cluster_ID\n",
      "0     760\n",
      "1     751\n",
      "2    1255\n",
      "3    1572\n",
      "Name: count, dtype: int64\n"
     ]
    }
   ],
   "source": [
    "# Final K-Means model with k=4 clusters\n",
    "k = 4\n",
    "kmeans_final = KMeans(n_clusters=k, random_state=42, n_init=10)\n",
    "kmeans_final.fit(rfm_scaled_df)\n",
    "\n",
    "# Add the cluster labels to your original RFM dataframe\n",
    "rfm_df['Cluster_ID'] = kmeans_final.labels_\n",
    "\n",
    "# Display the first few rows of the updated RFM table\n",
    "print(\"RFM Table with Cluster IDs:\")\n",
    "print(rfm_df.head())\n",
    "\n",
    "# Show the size of each cluster\n",
    "print(\"\\nCluster Sizes:\")\n",
    "print(rfm_df['Cluster_ID'].value_counts().sort_index())"
   ]
  },
  {
   "cell_type": "markdown",
   "id": "9e846434-8f68-489d-b823-0d64afc60b6f",
   "metadata": {},
   "source": [
    "### Phase 4: Segment Profiling & Strategic Recommendations \n",
    "\n",
    "This is the most crucial part of the project. I'll now analyze the characteristics of each cluster to understand what makes each customer segment unique. By calculating the average RFM values for each cluster, I can give them a meaningful name (e.g., \"Loyal Champions,\" \"At-Risk,\" \"New Customers\") and then develop tailored marketing strategies for each group."
   ]
  },
  {
   "cell_type": "code",
   "execution_count": 8,
   "id": "b680c4cd-46b3-4106-84a0-096d958a77e9",
   "metadata": {},
   "outputs": [
    {
     "name": "stdout",
     "output_type": "stream",
     "text": [
      "Cluster Profiles (Mean RFM Values):\n",
      "               Recency  Frequency     Monetary\n",
      "Cluster_ID                                    \n",
      "0            18.721053   1.996053   503.879526\n",
      "1            10.595206  13.121172  7739.896977\n",
      "2            72.788048   4.120319  1735.427317\n",
      "3           183.135496   1.265903   342.134574\n"
     ]
    }
   ],
   "source": [
    "# Group the RFM data by Cluster_ID and calculate the mean of each metric\n",
    "cluster_profiles = rfm_df.groupby('Cluster_ID')[['Recency', 'Frequency', 'Monetary']].mean()\n",
    "\n",
    "# Print the profile of each cluster\n",
    "print(\"Cluster Profiles (Mean RFM Values):\")\n",
    "print(cluster_profiles)"
   ]
  },
  {
   "cell_type": "markdown",
   "id": "a25cb2c9-590f-40ca-b74f-4f3df3b88a90",
   "metadata": {},
   "source": [
    "### The Final Analysis: Segment Descriptions and Strategies\n",
    "\n",
    "Based on the mean RFM values, I can now profile each of my customer segments and provide actionable recommendations.\n",
    "\n",
    "- **Cluster 1 (Loyal Champions)**: My most valuable customers. They buy recently, often, and spend the most.\n",
    "  - **Strategy**: Reward them with loyalty programs and exclusive offers to maintain their loyalty.\n",
    "\n",
    "- **Cluster 0 (Promising Newcomers)**: These customers have purchased recently but not frequently. They have potential to become loyal customers.\n",
    "  - **Strategy**: Encourage repeat purchases with personalized product recommendations and welcome-back discounts.\n",
    "\n",
    "- **Cluster 2 (At-Risk Customers)**: These customers have a decent history but their purchasing has become less recent. They are in danger of churning.\n",
    "  - **Strategy**: Re-engage them with \"we miss you\" campaigns and personalized offers to win them back.\n",
    "\n",
    "- **Cluster 3 (Lapsed Customers)**: My least engaged customers. They have not purchased in a long time and have a low monetary value.\n",
    "  - **Strategy**: Run win-back campaigns with aggressive discounts or special promotions to get them to make a purchase and reactivate them."
   ]
  },
  {
   "cell_type": "code",
   "execution_count": 9,
   "id": "229dd7c6-2f91-43aa-b86f-fe2522f73cdd",
   "metadata": {},
   "outputs": [
    {
     "name": "stdout",
     "output_type": "stream",
     "text": [
      "Your DataFrame has been saved as 'rfm_data.csv' in your working directory.\n"
     ]
    }
   ],
   "source": [
    "# Save the final RFM DataFrame to a CSV file\n",
    "rfm_df.to_csv('rfm_data.csv', index=False)\n",
    "\n",
    "print(\"Your DataFrame has been saved as 'rfm_data.csv' in your working directory.\")"
   ]
  },
  {
   "cell_type": "code",
   "execution_count": null,
   "id": "e6f91823-3e1c-48c6-81a9-7757d226f0bc",
   "metadata": {},
   "outputs": [],
   "source": []
  }
 ],
 "metadata": {
  "kernelspec": {
   "display_name": "Python [conda env:base] *",
   "language": "python",
   "name": "conda-base-py"
  },
  "language_info": {
   "codemirror_mode": {
    "name": "ipython",
    "version": 3
   },
   "file_extension": ".py",
   "mimetype": "text/x-python",
   "name": "python",
   "nbconvert_exporter": "python",
   "pygments_lexer": "ipython3",
   "version": "3.13.5"
  }
 },
 "nbformat": 4,
 "nbformat_minor": 5
}
